{
 "cells": [
  {
   "cell_type": "code",
   "execution_count": 1,
   "metadata": {},
   "outputs": [
    {
     "name": "stdout",
     "output_type": "stream",
     "text": [
      "(12245, 11)\n"
     ]
    }
   ],
   "source": [
    "#28 | {\"<5\":266,\"5-20\":4184,\"21-60\":3597,\"61-240\":2492,\">240\":892}\n",
    "import pandas as pd\n",
    "import numpy as np\n",
    "\n",
    "all_data = pd.read_csv('/home/rayan/Workspace/assip/data/Safegraph/dwell_data.csv')\n",
    "all_data.head()\n",
    "print(all_data.shape)"
   ]
  },
  {
   "cell_type": "code",
   "execution_count": 2,
   "metadata": {},
   "outputs": [
    {
     "name": "stdout",
     "output_type": "stream",
     "text": [
      "(4130, 11)\n"
     ]
    }
   ],
   "source": [
    "for index, row in enumerate(all_data['raw_visitor_counts']):\n",
    "    if row < 30:\n",
    "        all_data = all_data.drop([index])\n",
    "print(all_data.shape)"
   ]
  },
  {
   "cell_type": "code",
   "execution_count": 3,
   "metadata": {
    "scrolled": false
   },
   "outputs": [
    {
     "name": "stderr",
     "output_type": "stream",
     "text": [
      "/usr/lib/python3/dist-packages/ipykernel_launcher.py:3: SettingWithCopyWarning: \n",
      "A value is trying to be set on a copy of a slice from a DataFrame\n",
      "\n",
      "See the caveats in the documentation: http://pandas.pydata.org/pandas-docs/stable/indexing.html#indexing-view-versus-copy\n",
      "  This is separate from the ipykernel package so we can avoid doing imports until\n",
      "/usr/lib/python3/dist-packages/IPython/core/interactiveshell.py:2882: SettingWithCopyWarning: \n",
      "A value is trying to be set on a copy of a slice from a DataFrame\n",
      "\n",
      "See the caveats in the documentation: http://pandas.pydata.org/pandas-docs/stable/indexing.html#indexing-view-versus-copy\n",
      "  exec(code_obj, self.user_global_ns, self.user_ns)\n"
     ]
    },
    {
     "data": {
      "text/html": [
       "<div>\n",
       "<style scoped>\n",
       "    .dataframe tbody tr th:only-of-type {\n",
       "        vertical-align: middle;\n",
       "    }\n",
       "\n",
       "    .dataframe tbody tr th {\n",
       "        vertical-align: top;\n",
       "    }\n",
       "\n",
       "    .dataframe thead th {\n",
       "        text-align: right;\n",
       "    }\n",
       "</style>\n",
       "<table border=\"1\" class=\"dataframe\">\n",
       "  <thead>\n",
       "    <tr style=\"text-align: right;\">\n",
       "      <th></th>\n",
       "      <th>median_dwell</th>\n",
       "      <th>bucketed_dwell_times</th>\n",
       "    </tr>\n",
       "  </thead>\n",
       "  <tbody>\n",
       "    <tr>\n",
       "      <th>0</th>\n",
       "      <td>28.0</td>\n",
       "      <td>\"&lt;5\":266,\"5-20\":4184,\"21-60\":3597,\"61-240\":249...</td>\n",
       "    </tr>\n",
       "    <tr>\n",
       "      <th>1</th>\n",
       "      <td>21.0</td>\n",
       "      <td>\"&lt;5\":135,\"5-20\":2414,\"21-60\":2058,\"61-240\":612...</td>\n",
       "    </tr>\n",
       "    <tr>\n",
       "      <th>2</th>\n",
       "      <td>22.0</td>\n",
       "      <td>\"&lt;5\":109,\"5-20\":2009,\"21-60\":1858,\"61-240\":630...</td>\n",
       "    </tr>\n",
       "    <tr>\n",
       "      <th>3</th>\n",
       "      <td>21.0</td>\n",
       "      <td>\"&lt;5\":85,\"5-20\":1569,\"21-60\":1391,\"61-240\":248,...</td>\n",
       "    </tr>\n",
       "    <tr>\n",
       "      <th>4</th>\n",
       "      <td>63.0</td>\n",
       "      <td>\"&lt;5\":80,\"5-20\":1268,\"21-60\":1267,\"61-240\":1611...</td>\n",
       "    </tr>\n",
       "  </tbody>\n",
       "</table>\n",
       "</div>"
      ],
      "text/plain": [
       "   median_dwell                               bucketed_dwell_times\n",
       "0          28.0  \"<5\":266,\"5-20\":4184,\"21-60\":3597,\"61-240\":249...\n",
       "1          21.0  \"<5\":135,\"5-20\":2414,\"21-60\":2058,\"61-240\":612...\n",
       "2          22.0  \"<5\":109,\"5-20\":2009,\"21-60\":1858,\"61-240\":630...\n",
       "3          21.0  \"<5\":85,\"5-20\":1569,\"21-60\":1391,\"61-240\":248,...\n",
       "4          63.0  \"<5\":80,\"5-20\":1268,\"21-60\":1267,\"61-240\":1611..."
      ]
     },
     "execution_count": 3,
     "metadata": {},
     "output_type": "execute_result"
    }
   ],
   "source": [
    "dwell_df = all_data[['median_dwell', 'bucketed_dwell_times']]\n",
    "for index, row in enumerate(dwell_df['bucketed_dwell_times']):\n",
    "    dwell_df['bucketed_dwell_times'][index] = row[1:len(row)-1]\n",
    "dwell_df.head()"
   ]
  },
  {
   "cell_type": "code",
   "execution_count": 6,
   "metadata": {},
   "outputs": [
    {
     "name": "stdout",
     "output_type": "stream",
     "text": [
      "Empty DataFrame\n",
      "Columns: [(<5,), (5-20,), (21-60,), (61-240,), (>240,), (median_dwell,)]\n",
      "Index: []\n"
     ]
    }
   ],
   "source": [
    "bucket_labels = list(map(str, dwell_df['bucketed_dwell_times'][0].split(',')))\n",
    "for index,label in enumerate(bucket_labels):\n",
    "    bucket_labels[index] = label[label.index('\"')+1:label.index(':')-1]\n",
    "bucket_labels.append('median_dwell')\n",
    "buckets_df = pd.DataFrame(columns=[bucket_labels]) \n",
    "print(buckets_df)\n",
    "\n",
    "for dwell_i in range(len(dwell_df['bucketed_dwell_times'])):\n",
    "    bucket_values = list(map(str, dwell_df['bucketed_dwell_times'][dwell_i].split(',')))\n",
    "    for index, val in enumerate(bucket_values):\n",
    "        bucket_values[index] = int(val[val.index(':')+1:])\n",
    "    bucket_values.append(dwell_df['median_dwell'][dwell_i])\n",
    "    buckets_df.loc[dwell_i] = bucket_values\n",
    "\n",
    "buckets_df = buckets_df.rename(columns={'<5': '0-5', '>240': '240-960'}) #----------------change cap here"
   ]
  },
  {
   "cell_type": "code",
   "execution_count": 7,
   "metadata": {
    "scrolled": true
   },
   "outputs": [
    {
     "name": "stdout",
     "output_type": "stream",
     "text": [
      "        0-5    5-20   21-60  61-240 240-960 median_dwell\n",
      "0     266.0  4184.0  3597.0  2492.0   892.0         28.0\n",
      "1     135.0  2414.0  2058.0   612.0   176.0         21.0\n",
      "2     109.0  2009.0  1858.0   630.0   195.0         22.0\n",
      "3      85.0  1569.0  1391.0   248.0   104.0         21.0\n",
      "4      80.0  1268.0  1267.0  1611.0  1183.0         63.0\n",
      "5      53.0  1520.0  1415.0   366.0   120.0         21.0\n",
      "6     111.0  1391.0  1347.0  2049.0   680.0         60.0\n",
      "7      76.0  1376.0  1038.0   446.0   100.0         21.0\n",
      "8      63.0  1071.0  1167.0   865.0   257.0         36.0\n",
      "9      70.0  1378.0   826.0   411.0   156.0         20.0\n",
      "10     58.0   902.0   711.0   384.0   128.0         22.0\n",
      "11     36.0   953.0   762.0   185.0    53.0         21.0\n",
      "12     12.0   513.0   737.0   711.0    63.0         42.0\n",
      "13     55.0   736.0   636.0   484.0   304.0         33.0\n",
      "14     61.0  1058.0   708.0   389.0   125.0         21.0\n",
      "15     50.0   765.0   804.0   722.0   196.0         39.0\n",
      "16     29.0   498.0   688.0   880.0   316.0         60.0\n",
      "17     25.0   714.0   713.0   367.0    57.0         25.0\n",
      "18     55.0   956.0   673.0   164.0    89.0         20.0\n",
      "19     23.0   718.0   743.0   138.0    35.0         22.0\n",
      "20     38.0   641.0   597.0   332.0    98.0         25.0\n",
      "21     66.0   867.0   600.0   344.0   103.0         21.0\n",
      "22     22.0   531.0   820.0   536.0   116.0         40.0\n",
      "23     58.0   854.0   780.0   462.0   106.0         26.0\n",
      "24     50.0   727.0   659.0   378.0    46.0         24.0\n",
      "25     25.0   697.0   702.0   281.0    88.0         24.0\n",
      "26     46.0   822.0   704.0   259.0    75.0         22.0\n",
      "27     53.0   836.0   621.0   322.0   139.0         22.0\n",
      "28     39.0   666.0   641.0   286.0    58.0         23.0\n",
      "29     37.0   942.0   647.0   224.0    99.0         20.0\n",
      "...     ...     ...     ...     ...     ...          ...\n",
      "4100    0.0    36.0    17.0     1.0    19.0         21.0\n",
      "4101    1.0    22.0     5.0     2.0     0.0          9.0\n",
      "4102    0.0    21.0     7.0     1.0     1.0         19.0\n",
      "4103    1.0    13.0    11.0    10.0     1.0         32.0\n",
      "4104    0.0     7.0    11.0    16.0     3.0         61.0\n",
      "4105    1.0    12.0    16.0     9.0     9.0         41.0\n",
      "4106    0.0    11.0    16.0     7.0     0.0         26.0\n",
      "4107    1.0    20.0     6.0     4.0     0.0         11.0\n",
      "4108    0.0    19.0     8.0    22.0    24.0        100.0\n",
      "4109    0.0    15.0     5.0    12.0     6.0         47.5\n",
      "4110    1.0     7.0    22.0    14.0    10.0         50.5\n",
      "4111    1.0    30.0     9.0     4.0     5.0         10.0\n",
      "4112    1.0    19.0    10.0     0.0     0.0         11.0\n",
      "4113    0.0    10.0    10.0     6.0    11.0         56.0\n",
      "4114    3.0    22.0    12.0     3.0     5.0         18.0\n",
      "4115    2.0    21.0    10.0     8.0     6.0         21.0\n",
      "4116    0.0     2.0    18.0    30.0    13.0         98.0\n",
      "4117    2.0    22.0     3.0     5.0     6.0         15.0\n",
      "4118    0.0     6.0    10.0    13.0     7.0         64.5\n",
      "4119    0.0     2.0     4.0    15.0    20.0        239.0\n",
      "4120    0.0     7.0    24.0    13.0     5.0         40.0\n",
      "4121    0.0    21.0     6.0    33.0    32.0        143.0\n",
      "4122    3.0    13.0     7.0    13.0     7.0         30.0\n",
      "4123    0.0    14.0    11.0     6.0     1.0         21.0\n",
      "4124    0.0    21.0     6.0    33.0    32.0        143.0\n",
      "4125    1.0     9.0    12.0     8.0    13.0         56.0\n",
      "4126    0.0    13.0    13.0     5.0     3.0         39.5\n",
      "4127    0.0     5.0    17.0    32.0     8.0         91.5\n",
      "4128    0.0    27.0     3.0     0.0     5.0         10.0\n",
      "4129    0.0    18.0    11.0     2.0     0.0         14.0\n",
      "\n",
      "[4130 rows x 6 columns]\n"
     ]
    }
   ],
   "source": [
    "print(buckets_df)"
   ]
  },
  {
   "cell_type": "code",
   "execution_count": 38,
   "metadata": {},
   "outputs": [
    {
     "name": "stdout",
     "output_type": "stream",
     "text": [
      "('0-5',)\n",
      "('5-20',)\n",
      "('21-60',)\n",
      "('61-240',)\n",
      "('240-960',)\n",
      "('median_dwell',)\n"
     ]
    }
   ],
   "source": [
    "for col in buckets_df:\n",
    "    print(col)"
   ]
  },
  {
   "cell_type": "code",
   "execution_count": 118,
   "metadata": {},
   "outputs": [],
   "source": [
    "def fill_buckets(lower, upper, num):\n",
    "    print(np.random.uniform(low=lower, high=upper, size=(num,1)).shape)\n",
    "    return np.random.uniform(low=lower, high=upper, size=(num,1))\n",
    "\n",
    "\n",
    "#input distribution as two arrays, nums: the actual number values, buckets: list of the section ranges\n",
    "\n",
    "def get_dwell_time(nums, buckets): \n",
    "    filled_arr = np.empty([1,1])\n",
    "    for index, bucket in enumerate(buckets): \n",
    "        lower, upper = map(int, bucket.split('-'))\n",
    "        print(filled_arr.shape)\n",
    "        filled_arr = np.concatenate((filled_arr, fill_buckets(lower, upper, int(nums[index]))))\n",
    "    return np.array(filled_arr)"
   ]
  },
  {
   "cell_type": "code",
   "execution_count": 119,
   "metadata": {},
   "outputs": [
    {
     "name": "stdout",
     "output_type": "stream",
     "text": [
      "(1, 1)\n",
      "(266, 1)\n",
      "(267, 1)\n",
      "(4184, 1)\n",
      "(4451, 1)\n",
      "(3597, 1)\n",
      "(8048, 1)\n",
      "(2492, 1)\n",
      "(10540, 1)\n",
      "(892, 1)\n"
     ]
    }
   ],
   "source": [
    "test_nums = list(buckets_df.loc[0].drop('median_dwell'))\n",
    "test_buckets = [str(i)[str(i).index(\"'\")+1:str(i).index(\",\")-1] for i in list(buckets_df.drop(\n",
    "            'median_dwell', axis=1).columns)]\n",
    "test_fit = get_dwell_time(test_nums, test_buckets)\n",
    "    "
   ]
  },
  {
   "cell_type": "code",
   "execution_count": 130,
   "metadata": {},
   "outputs": [
    {
     "name": "stdout",
     "output_type": "stream",
     "text": [
      "(11431,)\n",
      "(11431,)\n"
     ]
    }
   ],
   "source": [
    "print(test_fit.shape)\n",
    "test_fit = test_fit[~np.isnan(test_fit)]\n",
    "print(test_fit.shape)"
   ]
  },
  {
   "cell_type": "code",
   "execution_count": 131,
   "metadata": {},
   "outputs": [
    {
     "name": "stdout",
     "output_type": "stream",
     "text": [
      "[distfit] >fit..\n",
      "[distfit] >transform..\n",
      "[distfit] >[norm      ] [RSS: 0.0003827] [loc=97.707 scale=169.479] \n",
      "[distfit] >[expon     ] [RSS: 0.0001327] [loc=0.017 scale=97.691] \n",
      "[distfit] >[pareto    ] [RSS: 0.0000655] [loc=-2.079 scale=2.096] \n",
      "[distfit] >[dweibull  ] [RSS: 0.0001128] [loc=16.030 scale=49.075] \n",
      "[distfit] >[t         ] [RSS: 0.0001218] [loc=21.897 scale=17.645] \n",
      "[distfit] >[genextreme] [RSS: 0.0000269] [loc=22.130 scale=24.772] \n",
      "[distfit] >[gamma     ] [RSS: 0.0000801] [loc=0.017 scale=148.924] \n",
      "[distfit] >[lognorm   ] [RSS: 0.0000184] [loc=-0.081 scale=38.402] \n",
      "[distfit] >[beta      ] [RSS: 0.0000811] [loc=0.017 scale=7319.244] \n",
      "[distfit] >[uniform   ] [RSS: 0.0004669] [loc=0.017 scale=959.821] \n",
      "[distfit] >Compute confidence interval [parametric]\n",
      "[distfit] >plot..\n"
     ]
    },
    {
     "data": {
      "image/png": "[encoded data removed]",
      "text/plain": [
       "<Figure size 720x576 with 1 Axes>"
      ]
     },
     "metadata": {},
     "output_type": "display_data"
    },
    {
     "data": {
      "text/plain": [
       "(<Figure size 720x576 with 1 Axes>,\n",
       " <matplotlib.axes._subplots.AxesSubplot at 0x7f00f5c464a8>)"
      ]
     },
     "execution_count": 131,
     "metadata": {},
     "output_type": "execute_result"
    }
   ],
   "source": [
    "from distfit import distfit\n",
    "\n",
    "dist = distfit()\n",
    "dist.fit_transform(test_fit)\n",
    "dist.plot()"
   ]
  },
  {
   "cell_type": "code",
   "execution_count": 132,
   "metadata": {},
   "outputs": [
    {
     "name": "stdout",
     "output_type": "stream",
     "text": [
      "[distfit] >plot summary..\n"
     ]
    },
    {
     "data": {
      "image/png": "[encoded data removed]",
      "text/plain": [
       "<Figure size 1080x576 with 1 Axes>"
      ]
     },
     "metadata": {},
     "output_type": "display_data"
    },
    {
     "data": {
      "text/plain": [
       "(<Figure size 1080x576 with 1 Axes>,\n",
       " <matplotlib.axes._subplots.AxesSubplot at 0x7f00f4f7ecf8>)"
      ]
     },
     "execution_count": 132,
     "metadata": {},
     "output_type": "execute_result"
    }
   ],
   "source": [
    "dist.plot_summary()"
   ]
  },
  {
   "cell_type": "code",
   "execution_count": 137,
   "metadata": {},
   "outputs": [
    {
     "data": {
      "text/plain": [
       "{'CII_max_alpha': 344.45766053791425,\n",
       " 'CII_min_alpha': 4.1997151883588195,\n",
       " 'RSS': 1.842052574520847e-05,\n",
       " 'arg': (1.3339156821156237,),\n",
       " 'distr': <scipy.stats._continuous_distns.lognorm_gen at 0x7f00f6ba27f0>,\n",
       " 'loc': -0.08054105922535619,\n",
       " 'name': 'lognorm',\n",
       " 'params': (1.3339156821156237, -0.08054105922535619, 38.40197638035801),\n",
       " 'scale': 38.40197638035801}"
      ]
     },
     "execution_count": 137,
     "metadata": {},
     "output_type": "execute_result"
    }
   ],
   "source": [
    "dist.model"
   ]
  },
  {
   "cell_type": "code",
   "execution_count": 158,
   "metadata": {},
   "outputs": [
    {
     "data": {
      "text/plain": [
       "1.3339156821156237"
      ]
     },
     "execution_count": 158,
     "metadata": {},
     "output_type": "execute_result"
    }
   ],
   "source": [
    "arg, loc, scale = float((dist.model['arg'])[0]), dist.model['loc'], dist.model['scale']\n",
    "arg"
   ]
  },
  {
   "cell_type": "code",
   "execution_count": 135,
   "metadata": {},
   "outputs": [
    {
     "data": {
      "text/html": [
       "<div>\n",
       "<style scoped>\n",
       "    .dataframe tbody tr th:only-of-type {\n",
       "        vertical-align: middle;\n",
       "    }\n",
       "\n",
       "    .dataframe tbody tr th {\n",
       "        vertical-align: top;\n",
       "    }\n",
       "\n",
       "    .dataframe thead th {\n",
       "        text-align: right;\n",
       "    }\n",
       "</style>\n",
       "<table border=\"1\" class=\"dataframe\">\n",
       "  <thead>\n",
       "    <tr style=\"text-align: right;\">\n",
       "      <th></th>\n",
       "      <th>distr</th>\n",
       "      <th>RSS</th>\n",
       "      <th>LLE</th>\n",
       "      <th>loc</th>\n",
       "      <th>scale</th>\n",
       "      <th>arg</th>\n",
       "    </tr>\n",
       "  </thead>\n",
       "  <tbody>\n",
       "    <tr>\n",
       "      <th>0</th>\n",
       "      <td>lognorm</td>\n",
       "      <td>1.84205e-05</td>\n",
       "      <td>NaN</td>\n",
       "      <td>-0.0805411</td>\n",
       "      <td>38.402</td>\n",
       "      <td>(1.3339156821156237,)</td>\n",
       "    </tr>\n",
       "    <tr>\n",
       "      <th>1</th>\n",
       "      <td>genextreme</td>\n",
       "      <td>2.68557e-05</td>\n",
       "      <td>NaN</td>\n",
       "      <td>22.1299</td>\n",
       "      <td>24.7716</td>\n",
       "      <td>(-0.9764299744131386,)</td>\n",
       "    </tr>\n",
       "    <tr>\n",
       "      <th>2</th>\n",
       "      <td>pareto</td>\n",
       "      <td>6.5503e-05</td>\n",
       "      <td>NaN</td>\n",
       "      <td>-2.07921</td>\n",
       "      <td>2.09579</td>\n",
       "      <td>(0.3186444603228751,)</td>\n",
       "    </tr>\n",
       "    <tr>\n",
       "      <th>3</th>\n",
       "      <td>gamma</td>\n",
       "      <td>8.00791e-05</td>\n",
       "      <td>NaN</td>\n",
       "      <td>0.0165841</td>\n",
       "      <td>148.924</td>\n",
       "      <td>(0.6580030489784636,)</td>\n",
       "    </tr>\n",
       "    <tr>\n",
       "      <th>4</th>\n",
       "      <td>beta</td>\n",
       "      <td>8.11295e-05</td>\n",
       "      <td>NaN</td>\n",
       "      <td>0.0165841</td>\n",
       "      <td>7319.24</td>\n",
       "      <td>(0.6399365292195222, 46.85558899401104)</td>\n",
       "    </tr>\n",
       "    <tr>\n",
       "      <th>5</th>\n",
       "      <td>dweibull</td>\n",
       "      <td>0.000112821</td>\n",
       "      <td>NaN</td>\n",
       "      <td>16.0295</td>\n",
       "      <td>49.075</td>\n",
       "      <td>(0.5742987879575867,)</td>\n",
       "    </tr>\n",
       "    <tr>\n",
       "      <th>6</th>\n",
       "      <td>t</td>\n",
       "      <td>0.000121814</td>\n",
       "      <td>NaN</td>\n",
       "      <td>21.8973</td>\n",
       "      <td>17.6445</td>\n",
       "      <td>(0.7774388500105776,)</td>\n",
       "    </tr>\n",
       "    <tr>\n",
       "      <th>7</th>\n",
       "      <td>expon</td>\n",
       "      <td>0.000132692</td>\n",
       "      <td>NaN</td>\n",
       "      <td>0.0165841</td>\n",
       "      <td>97.6909</td>\n",
       "      <td>()</td>\n",
       "    </tr>\n",
       "    <tr>\n",
       "      <th>8</th>\n",
       "      <td>norm</td>\n",
       "      <td>0.000382697</td>\n",
       "      <td>NaN</td>\n",
       "      <td>97.7075</td>\n",
       "      <td>169.479</td>\n",
       "      <td>()</td>\n",
       "    </tr>\n",
       "    <tr>\n",
       "      <th>9</th>\n",
       "      <td>uniform</td>\n",
       "      <td>0.000466914</td>\n",
       "      <td>NaN</td>\n",
       "      <td>0.0165841</td>\n",
       "      <td>959.821</td>\n",
       "      <td>()</td>\n",
       "    </tr>\n",
       "  </tbody>\n",
       "</table>\n",
       "</div>"
      ],
      "text/plain": [
       "        distr          RSS  LLE        loc    scale  \\\n",
       "0     lognorm  1.84205e-05  NaN -0.0805411   38.402   \n",
       "1  genextreme  2.68557e-05  NaN    22.1299  24.7716   \n",
       "2      pareto   6.5503e-05  NaN   -2.07921  2.09579   \n",
       "3       gamma  8.00791e-05  NaN  0.0165841  148.924   \n",
       "4        beta  8.11295e-05  NaN  0.0165841  7319.24   \n",
       "5    dweibull  0.000112821  NaN    16.0295   49.075   \n",
       "6           t  0.000121814  NaN    21.8973  17.6445   \n",
       "7       expon  0.000132692  NaN  0.0165841  97.6909   \n",
       "8        norm  0.000382697  NaN    97.7075  169.479   \n",
       "9     uniform  0.000466914  NaN  0.0165841  959.821   \n",
       "\n",
       "                                       arg  \n",
       "0                    (1.3339156821156237,)  \n",
       "1                   (-0.9764299744131386,)  \n",
       "2                    (0.3186444603228751,)  \n",
       "3                    (0.6580030489784636,)  \n",
       "4  (0.6399365292195222, 46.85558899401104)  \n",
       "5                    (0.5742987879575867,)  \n",
       "6                    (0.7774388500105776,)  \n",
       "7                                       ()  \n",
       "8                                       ()  \n",
       "9                                       ()  "
      ]
     },
     "execution_count": 135,
     "metadata": {},
     "output_type": "execute_result"
    }
   ],
   "source": [
    "dist.summary"
   ]
  },
  {
   "cell_type": "code",
   "execution_count": 140,
   "metadata": {},
   "outputs": [
    {
     "name": "stdout",
     "output_type": "stream",
     "text": [
      "[ 84.69124094 244.20562771   5.99182429  11.25834617  11.55685643\n",
      "   8.6096807   71.55433135   3.20646703  22.54114707  62.24365916\n",
      "  10.51643068   6.96000927  45.12525499 106.09375836  67.86593967\n",
      "  52.11944772   9.79209246 273.67849175 236.2532707    8.75493339\n",
      " 107.85111898   2.324956     5.68898152 509.810091    40.20416538\n",
      " 188.20618097   9.34937761   9.01517365  76.63170622  25.08300001\n",
      "  76.74814142  32.24322132 129.54403412 381.17972607  95.90300491\n",
      " 410.99746008  16.66110035   6.46751785 303.84491301  45.64315072\n",
      "  18.6826048    1.6018752   15.6000436   43.66985854  32.20733721\n",
      "  13.11411768  11.58408169  22.03931497 177.59787263 102.91573994\n",
      " 150.47831096 123.59639532   8.71907204  12.94229328  82.32134639\n",
      "  12.13246825   4.24001222  52.6259074  330.96201948  11.16997778\n",
      " 150.77605256  88.11081411  23.10108189 378.91779791  69.65277642\n",
      " 149.94505487  31.28780728  10.60233741 542.02037708  18.12451902\n",
      "  26.36797962  56.36311723   5.66550974   5.37956521  38.81264239\n",
      " 125.28632605   5.1638671   67.83692623 147.9098813   30.82395253\n",
      "   2.0226459   21.6103202  368.1352461   65.52312218 103.42049714\n",
      " 478.82181639  44.96845587  17.27961873 126.91607149  13.23462967\n",
      "   6.57909545  54.44953151  17.40227825  29.19812982  51.45455621\n",
      "   5.69429404   4.4916355    9.51701879   8.12242406 103.14834463]\n"
     ]
    }
   ],
   "source": [
    "from scipy.stats import lognorm\n",
    "import matplotlib.pyplot as plt\n",
    "\n",
    "output_dwell_time = lognorm.rvs(1.3339156821156237, loc=-0.08054105922535619, scale=38.40197638035801, size=100)\n",
    "print(output_dwell_time)"
   ]
  },
  {
   "cell_type": "code",
   "execution_count": 160,
   "metadata": {},
   "outputs": [
    {
     "name": "stdout",
     "output_type": "stream",
     "text": [
      "[distfit] >fit..\n",
      "[distfit] >transform..\n",
      "[distfit] >[norm      ] [RSS: 0.0003836] [loc=96.747 scale=167.766] \n",
      "[distfit] >[expon     ] [RSS: 0.0001318] [loc=0.009 scale=96.738] \n",
      "[distfit] >[pareto    ] [RSS: 0.0000645] [loc=-2.086 scale=2.095] \n",
      "[distfit] >[dweibull  ] [RSS: 0.0001105] [loc=15.887 scale=48.845] \n",
      "[distfit] >[t         ] [RSS: 0.0001126] [loc=21.572 scale=17.270] \n",
      "[distfit] >[genextreme] [RSS: 0.0000231] [loc=22.008 scale=24.672] \n",
      "[distfit] >[gamma     ] [RSS: 0.0000782] [loc=0.009 scale=147.954] \n",
      "[distfit] >[lognorm   ] [RSS: 0.0000162] [loc=-0.163 scale=38.221] \n",
      "[distfit] >[beta      ] [RSS: 0.0000764] [loc=0.009 scale=23385.779] \n",
      "[distfit] >[uniform   ] [RSS: 0.0004694] [loc=0.009 scale=959.171] \n",
      "[distfit] >Compute confidence interval [parametric]\n",
      "[29.10443717]\n"
     ]
    }
   ],
   "source": [
    "import numpy as np\n",
    "from distfit import distfit\n",
    "from scipy.stats import lognorm\n",
    "\n",
    "def fill_buckets(lower, upper, num):\n",
    "    return np.random.uniform(low=lower, high=upper, size=(num,1))\n",
    "\n",
    "#input distribution as two arrays:\n",
    "#nums: containing the numbers of people in each bucket_dwell range \n",
    "#buckets: containing the strings of the ranges of each bucket_dwell range\n",
    "\n",
    "def get_dwell_time(nums, buckets): \n",
    "    \n",
    "    filled_arr = np.empty([1,1])\n",
    "    for index, bucket in enumerate(buckets): \n",
    "        lower, upper = map(int, bucket.split('-'))\n",
    "        filled_arr = np.concatenate((filled_arr, np.random.uniform(low=lower, high=upper, size=(int(nums[index]), 1))))\n",
    "        \n",
    "    filled_arr = filled_arr[~np.isnan(filled_arr)]\n",
    "\n",
    "    dist = distfit()\n",
    "    dist.fit_transform(filled_arr)\n",
    "    arg, loc_v, scale_v = float((dist.model['arg'])[0]), dist.model['loc'], dist.model['scale']\n",
    "    output_dwell_time = lognorm.rvs(arg, loc=loc_v, scale=scale_v, size=1)\n",
    "                                    \n",
    "    return output_dwell_time\n",
    "\n",
    "print(get_dwell_time(test_nums, test_buckets))"
   ]
  },
  {
   "cell_type": "code",
   "execution_count": null,
   "metadata": {},
   "outputs": [],
   "source": []
  }
 ],
 "metadata": {
  "kernelspec": {
   "display_name": "Python 3",
   "language": "python",
   "name": "python3"
  },
  "language_info": {
   "codemirror_mode": {
    "name": "ipython",
    "version": 3
   },
   "file_extension": ".py",
   "mimetype": "text/x-python",
   "name": "python",
   "nbconvert_exporter": "python",
   "pygments_lexer": "ipython3",
   "version": "3.6.9"
  }
 },
 "nbformat": 4,
 "nbformat_minor": 2
}
